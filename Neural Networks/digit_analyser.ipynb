{
 "cells": [
  {
   "cell_type": "markdown",
   "id": "64aaddf7",
   "metadata": {},
   "source": [
    "#### Dataset = kaggle competitions download -c digit-recognizer"
   ]
  },
  {
   "cell_type": "markdown",
   "id": "dbabea95",
   "metadata": {},
   "source": [
    "## import dataset"
   ]
  },
  {
   "cell_type": "code",
   "execution_count": 102,
   "id": "9cc686a4",
   "metadata": {},
   "outputs": [],
   "source": [
    "import pandas as pd\n",
    "import tensorflow as tf\n",
    "import matplotlib.pyplot as plt\n",
    "import tensorflow.keras.layers as tfl\n"
   ]
  },
  {
   "cell_type": "code",
   "execution_count": 103,
   "id": "e5801576",
   "metadata": {},
   "outputs": [],
   "source": [
    "train_df = pd.read_csv(\"../Datasets/digit-recognizer/train.csv\")\n",
    "test_df = pd.read_csv(\"../Datasets/digit-recognizer/test.csv\")"
   ]
  },
  {
   "cell_type": "code",
   "execution_count": 104,
   "id": "42cc4244",
   "metadata": {},
   "outputs": [
    {
     "data": {
      "text/html": [
       "<div>\n",
       "<style scoped>\n",
       "    .dataframe tbody tr th:only-of-type {\n",
       "        vertical-align: middle;\n",
       "    }\n",
       "\n",
       "    .dataframe tbody tr th {\n",
       "        vertical-align: top;\n",
       "    }\n",
       "\n",
       "    .dataframe thead th {\n",
       "        text-align: right;\n",
       "    }\n",
       "</style>\n",
       "<table border=\"1\" class=\"dataframe\">\n",
       "  <thead>\n",
       "    <tr style=\"text-align: right;\">\n",
       "      <th></th>\n",
       "      <th>label</th>\n",
       "      <th>pixel0</th>\n",
       "      <th>pixel1</th>\n",
       "      <th>pixel2</th>\n",
       "      <th>pixel3</th>\n",
       "      <th>pixel4</th>\n",
       "      <th>pixel5</th>\n",
       "      <th>pixel6</th>\n",
       "      <th>pixel7</th>\n",
       "      <th>pixel8</th>\n",
       "      <th>...</th>\n",
       "      <th>pixel774</th>\n",
       "      <th>pixel775</th>\n",
       "      <th>pixel776</th>\n",
       "      <th>pixel777</th>\n",
       "      <th>pixel778</th>\n",
       "      <th>pixel779</th>\n",
       "      <th>pixel780</th>\n",
       "      <th>pixel781</th>\n",
       "      <th>pixel782</th>\n",
       "      <th>pixel783</th>\n",
       "    </tr>\n",
       "  </thead>\n",
       "  <tbody>\n",
       "    <tr>\n",
       "      <th>0</th>\n",
       "      <td>1</td>\n",
       "      <td>0</td>\n",
       "      <td>0</td>\n",
       "      <td>0</td>\n",
       "      <td>0</td>\n",
       "      <td>0</td>\n",
       "      <td>0</td>\n",
       "      <td>0</td>\n",
       "      <td>0</td>\n",
       "      <td>0</td>\n",
       "      <td>...</td>\n",
       "      <td>0</td>\n",
       "      <td>0</td>\n",
       "      <td>0</td>\n",
       "      <td>0</td>\n",
       "      <td>0</td>\n",
       "      <td>0</td>\n",
       "      <td>0</td>\n",
       "      <td>0</td>\n",
       "      <td>0</td>\n",
       "      <td>0</td>\n",
       "    </tr>\n",
       "    <tr>\n",
       "      <th>1</th>\n",
       "      <td>0</td>\n",
       "      <td>0</td>\n",
       "      <td>0</td>\n",
       "      <td>0</td>\n",
       "      <td>0</td>\n",
       "      <td>0</td>\n",
       "      <td>0</td>\n",
       "      <td>0</td>\n",
       "      <td>0</td>\n",
       "      <td>0</td>\n",
       "      <td>...</td>\n",
       "      <td>0</td>\n",
       "      <td>0</td>\n",
       "      <td>0</td>\n",
       "      <td>0</td>\n",
       "      <td>0</td>\n",
       "      <td>0</td>\n",
       "      <td>0</td>\n",
       "      <td>0</td>\n",
       "      <td>0</td>\n",
       "      <td>0</td>\n",
       "    </tr>\n",
       "    <tr>\n",
       "      <th>2</th>\n",
       "      <td>1</td>\n",
       "      <td>0</td>\n",
       "      <td>0</td>\n",
       "      <td>0</td>\n",
       "      <td>0</td>\n",
       "      <td>0</td>\n",
       "      <td>0</td>\n",
       "      <td>0</td>\n",
       "      <td>0</td>\n",
       "      <td>0</td>\n",
       "      <td>...</td>\n",
       "      <td>0</td>\n",
       "      <td>0</td>\n",
       "      <td>0</td>\n",
       "      <td>0</td>\n",
       "      <td>0</td>\n",
       "      <td>0</td>\n",
       "      <td>0</td>\n",
       "      <td>0</td>\n",
       "      <td>0</td>\n",
       "      <td>0</td>\n",
       "    </tr>\n",
       "    <tr>\n",
       "      <th>3</th>\n",
       "      <td>4</td>\n",
       "      <td>0</td>\n",
       "      <td>0</td>\n",
       "      <td>0</td>\n",
       "      <td>0</td>\n",
       "      <td>0</td>\n",
       "      <td>0</td>\n",
       "      <td>0</td>\n",
       "      <td>0</td>\n",
       "      <td>0</td>\n",
       "      <td>...</td>\n",
       "      <td>0</td>\n",
       "      <td>0</td>\n",
       "      <td>0</td>\n",
       "      <td>0</td>\n",
       "      <td>0</td>\n",
       "      <td>0</td>\n",
       "      <td>0</td>\n",
       "      <td>0</td>\n",
       "      <td>0</td>\n",
       "      <td>0</td>\n",
       "    </tr>\n",
       "    <tr>\n",
       "      <th>4</th>\n",
       "      <td>0</td>\n",
       "      <td>0</td>\n",
       "      <td>0</td>\n",
       "      <td>0</td>\n",
       "      <td>0</td>\n",
       "      <td>0</td>\n",
       "      <td>0</td>\n",
       "      <td>0</td>\n",
       "      <td>0</td>\n",
       "      <td>0</td>\n",
       "      <td>...</td>\n",
       "      <td>0</td>\n",
       "      <td>0</td>\n",
       "      <td>0</td>\n",
       "      <td>0</td>\n",
       "      <td>0</td>\n",
       "      <td>0</td>\n",
       "      <td>0</td>\n",
       "      <td>0</td>\n",
       "      <td>0</td>\n",
       "      <td>0</td>\n",
       "    </tr>\n",
       "  </tbody>\n",
       "</table>\n",
       "<p>5 rows × 785 columns</p>\n",
       "</div>"
      ],
      "text/plain": [
       "   label  pixel0  pixel1  pixel2  pixel3  pixel4  pixel5  pixel6  pixel7  \\\n",
       "0      1       0       0       0       0       0       0       0       0   \n",
       "1      0       0       0       0       0       0       0       0       0   \n",
       "2      1       0       0       0       0       0       0       0       0   \n",
       "3      4       0       0       0       0       0       0       0       0   \n",
       "4      0       0       0       0       0       0       0       0       0   \n",
       "\n",
       "   pixel8  ...  pixel774  pixel775  pixel776  pixel777  pixel778  pixel779  \\\n",
       "0       0  ...         0         0         0         0         0         0   \n",
       "1       0  ...         0         0         0         0         0         0   \n",
       "2       0  ...         0         0         0         0         0         0   \n",
       "3       0  ...         0         0         0         0         0         0   \n",
       "4       0  ...         0         0         0         0         0         0   \n",
       "\n",
       "   pixel780  pixel781  pixel782  pixel783  \n",
       "0         0         0         0         0  \n",
       "1         0         0         0         0  \n",
       "2         0         0         0         0  \n",
       "3         0         0         0         0  \n",
       "4         0         0         0         0  \n",
       "\n",
       "[5 rows x 785 columns]"
      ]
     },
     "execution_count": 104,
     "metadata": {},
     "output_type": "execute_result"
    }
   ],
   "source": [
    "train_df.head()"
   ]
  },
  {
   "cell_type": "markdown",
   "id": "06710645",
   "metadata": {},
   "source": [
    "## preprocessing"
   ]
  },
  {
   "cell_type": "code",
   "execution_count": 105,
   "id": "d38a5cc5",
   "metadata": {},
   "outputs": [],
   "source": [
    "# x_train = train_df.drop('label', axis=1).values / 255.0\n",
    "# y_train = train_df['label'].values\n"
   ]
  },
  {
   "cell_type": "code",
   "execution_count": 156,
   "id": "3d4aa7d3",
   "metadata": {},
   "outputs": [],
   "source": [
    "# x_test = test_df.values / 255.0\n"
   ]
  },
  {
   "cell_type": "code",
   "execution_count": 157,
   "id": "761dd03c",
   "metadata": {},
   "outputs": [],
   "source": [
    "# x_train.shape"
   ]
  },
  {
   "cell_type": "code",
   "execution_count": 158,
   "id": "0b19c27d",
   "metadata": {},
   "outputs": [],
   "source": [
    "x_all = train_df.drop('label', axis=1).values.astype('float32') / 255.0   \n",
    "y_all = train_df['label'].values                                          \n",
    "x_test = test_df.values.astype('float32') / 255.0 "
   ]
  },
  {
   "cell_type": "code",
   "execution_count": 159,
   "id": "76d47c10",
   "metadata": {},
   "outputs": [],
   "source": [
    "from sklearn.model_selection import train_test_split\n",
    "from tensorflow.keras.utils import to_categorical\n",
    "\n",
    "x_train_flat, x_dev_flat, y_train, y_dev = train_test_split(\n",
    "    x_all, y_all, test_size=4000, random_state=42, shuffle=True\n",
    ")\n",
    "\n",
    "\n",
    "x_train = x_train_flat.reshape(-1, 28, 28, 1)\n",
    "x_dev   = x_dev_flat.reshape  (-1, 28, 28, 1)\n",
    "x_test  = x_test.reshape     (-1, 28, 28, 1)\n",
    "\n",
    "\n",
    "y_train_enc = to_categorical(y_train, num_classes=10)\n",
    "y_dev_enc   = to_categorical(y_dev,   num_classes=10)"
   ]
  },
  {
   "cell_type": "code",
   "execution_count": 160,
   "id": "9a058fb0",
   "metadata": {},
   "outputs": [],
   "source": [
    "\n",
    "# # Create iterators\n",
    "# images_iter = iter(x_train_reduced)\n",
    "# labels_iter = iter(y_train_reduced)\n",
    "\n",
    "# # Plot 25 samples\n",
    "# plt.figure(figsize=(10, 10))\n",
    "# for i in range(25):\n",
    "#     ax = plt.subplot(5, 5, i + 1)\n",
    "#     plt.imshow(next(images_iter).reshape(28, 28), cmap='gray')  # Reshape for MNIST (28x28)\n",
    "#     plt.title(int(next(labels_iter)))  # Convert label to integer\n",
    "#     plt.axis(\"off\")\n",
    "# plt.show()"
   ]
  },
  {
   "cell_type": "code",
   "execution_count": 161,
   "id": "bfa6d3d4",
   "metadata": {},
   "outputs": [
    {
     "name": "stderr",
     "output_type": "stream",
     "text": [
      "/home/mra/Desktop/machine-learning-practice/venv/lib/python3.12/site-packages/keras/src/layers/reshaping/zero_padding2d.py:72: UserWarning: Do not pass an `input_shape`/`input_dim` argument to a layer. When using Sequential models, prefer using an `Input(shape)` object as the first layer in the model instead.\n",
      "  super().__init__(**kwargs)\n"
     ]
    }
   ],
   "source": [
    "from tensorflow.keras import regularizers\n",
    "\n",
    "# model = tf.keras.models.Sequential([\n",
    "#     tf.keras.Input(shape=(x_train_reduced.shape[1],)),\n",
    "#     tf.keras.layers.Dense(64, activation='relu', kernel_regularizer=regularizers.l2(0.001)),\n",
    "#     tf.keras.layers.Dense(32, activation='relu', kernel_regularizer=regularizers.l2(0.001)),\n",
    "#     tf.keras.layers.Dense(16, activation='relu', kernel_regularizer=regularizers.l2(0.001)),\n",
    "#     tf.keras.layers.Dense(y_train_encoded.shape[1], activation='softmax') ,\n",
    "\n",
    "# ])\n",
    "\n",
    "model = tf.keras.Sequential([\n",
    "    tfl.ZeroPadding2D(padding=3, input_shape=(28,28,1)),\n",
    "    tfl.Conv2D(32, (5,5), strides=1, padding='same'),\n",
    "    # tfl.BatchNormalization(),\n",
    "    tfl.ReLU(),\n",
    "    tfl.MaxPooling2D(pool_size=2, strides=2),\n",
    "\n",
    "    tfl.Conv2D(16, (5,5), strides=1),\n",
    "    # tfl.BatchNormalization(),\n",
    "    tfl.ReLU(),\n",
    "    tfl.MaxPooling2D(pool_size=2, strides=1),\n",
    "\n",
    "    tfl.Conv2D(8, (3,3), strides=1),\n",
    "    tfl.BatchNormalization(),\n",
    "    tfl.ReLU(),\n",
    "    tfl.Flatten(),\n",
    "\n",
    "    tf.keras.layers.Dense(32, activation='relu', kernel_regularizer=regularizers.l2(1e-4)),\n",
    "    tf.keras.layers.Dense(10, activation='softmax'),\n",
    "])\n",
    "\n",
    "# tfl.ZeroPadding2D(padding=3, input_shape=(64,64,3)),\n",
    "# tfl.Conv2D(filters=32, strides=1, kernel_size=(7,7)),\n",
    "# tfl.BatchNormalization(axis=3),\n",
    "# tfl.ReLU(),\n",
    "# tfl.MaxPool2D(),\n",
    "# tfl.Flatten(),\n",
    "# tfl.Dense(units=1, activation='sigmoid')"
   ]
  },
  {
   "cell_type": "code",
   "execution_count": 162,
   "id": "d3e4d284",
   "metadata": {},
   "outputs": [],
   "source": [
    "lr_schedule = tf.keras.optimizers.schedules.ExponentialDecay(\n",
    "    initial_learning_rate=0.01,\n",
    "    decay_steps=100000,\n",
    "    decay_rate=0.9\n",
    ")\n",
    "optimizer = tf.keras.optimizers.Adam(learning_rate=lr_schedule)\n"
   ]
  },
  {
   "cell_type": "code",
   "execution_count": 163,
   "id": "4c4e35ba",
   "metadata": {},
   "outputs": [],
   "source": [
    "model.compile(\n",
    "    optimizer=optimizer,\n",
    "    loss='categorical_crossentropy',\n",
    "    metrics=['accuracy']\n",
    ")\n",
    "\n"
   ]
  },
  {
   "cell_type": "code",
   "execution_count": 164,
   "id": "a40493e1",
   "metadata": {},
   "outputs": [
    {
     "name": "stdout",
     "output_type": "stream",
     "text": [
      "(38000, 28, 28, 1) (38000, 10)\n"
     ]
    }
   ],
   "source": [
    "print(x_train.shape, y_train_enc.shape)\n",
    "assert x_train.shape[0] == y_train_enc.shape[0] > 0, \"Empty or mismatched data!\"\n"
   ]
  },
  {
   "cell_type": "code",
   "execution_count": 165,
   "id": "de3475b9",
   "metadata": {},
   "outputs": [
    {
     "name": "stdout",
     "output_type": "stream",
     "text": [
      "Before training → dev accuracy = 0.1470\n"
     ]
    }
   ],
   "source": [
    "dev_loss, dev_acc = model.evaluate(x_dev, y_dev_enc, verbose=0)\n",
    "print(f\"Before training → dev accuracy = {dev_acc:.4f}\")"
   ]
  },
  {
   "cell_type": "code",
   "execution_count": 167,
   "id": "83c2fe85",
   "metadata": {},
   "outputs": [
    {
     "name": "stdout",
     "output_type": "stream",
     "text": [
      "Epoch 1/50\n",
      "\u001b[1m297/297\u001b[0m \u001b[32m━━━━━━━━━━━━━━━━━━━━\u001b[0m\u001b[37m\u001b[0m \u001b[1m15s\u001b[0m 52ms/step - accuracy: 0.9660 - loss: 0.1278 - val_accuracy: 0.9740 - val_loss: 0.1008\n",
      "Epoch 2/50\n",
      "\u001b[1m297/297\u001b[0m \u001b[32m━━━━━━━━━━━━━━━━━━━━\u001b[0m\u001b[37m\u001b[0m \u001b[1m15s\u001b[0m 51ms/step - accuracy: 0.9822 - loss: 0.0715 - val_accuracy: 0.9720 - val_loss: 0.1091\n",
      "Epoch 3/50\n",
      "\u001b[1m297/297\u001b[0m \u001b[32m━━━━━━━━━━━━━━━━━━━━\u001b[0m\u001b[37m\u001b[0m \u001b[1m15s\u001b[0m 52ms/step - accuracy: 0.9868 - loss: 0.0569 - val_accuracy: 0.9827 - val_loss: 0.0687\n",
      "Epoch 4/50\n",
      "\u001b[1m297/297\u001b[0m \u001b[32m━━━━━━━━━━━━━━━━━━━━\u001b[0m\u001b[37m\u001b[0m \u001b[1m15s\u001b[0m 51ms/step - accuracy: 0.9885 - loss: 0.0549 - val_accuracy: 0.9682 - val_loss: 0.1149\n",
      "Epoch 5/50\n",
      "\u001b[1m297/297\u001b[0m \u001b[32m━━━━━━━━━━━━━━━━━━━━\u001b[0m\u001b[37m\u001b[0m \u001b[1m15s\u001b[0m 52ms/step - accuracy: 0.9901 - loss: 0.0476 - val_accuracy: 0.9758 - val_loss: 0.1046\n",
      "Epoch 6/50\n",
      "\u001b[1m297/297\u001b[0m \u001b[32m━━━━━━━━━━━━━━━━━━━━\u001b[0m\u001b[37m\u001b[0m \u001b[1m15s\u001b[0m 52ms/step - accuracy: 0.9890 - loss: 0.0495 - val_accuracy: 0.9847 - val_loss: 0.0684\n",
      "Epoch 7/50\n",
      "\u001b[1m297/297\u001b[0m \u001b[32m━━━━━━━━━━━━━━━━━━━━\u001b[0m\u001b[37m\u001b[0m \u001b[1m15s\u001b[0m 52ms/step - accuracy: 0.9904 - loss: 0.0458 - val_accuracy: 0.9815 - val_loss: 0.0812\n",
      "Epoch 8/50\n",
      "\u001b[1m297/297\u001b[0m \u001b[32m━━━━━━━━━━━━━━━━━━━━\u001b[0m\u001b[37m\u001b[0m \u001b[1m16s\u001b[0m 52ms/step - accuracy: 0.9897 - loss: 0.0491 - val_accuracy: 0.9855 - val_loss: 0.0685\n",
      "Epoch 9/50\n",
      "\u001b[1m297/297\u001b[0m \u001b[32m━━━━━━━━━━━━━━━━━━━━\u001b[0m\u001b[37m\u001b[0m \u001b[1m16s\u001b[0m 52ms/step - accuracy: 0.9925 - loss: 0.0395 - val_accuracy: 0.9765 - val_loss: 0.0868\n",
      "Epoch 10/50\n",
      "\u001b[1m297/297\u001b[0m \u001b[32m━━━━━━━━━━━━━━━━━━━━\u001b[0m\u001b[37m\u001b[0m \u001b[1m16s\u001b[0m 52ms/step - accuracy: 0.9910 - loss: 0.0462 - val_accuracy: 0.9847 - val_loss: 0.0679\n",
      "Epoch 11/50\n",
      "\u001b[1m297/297\u001b[0m \u001b[32m━━━━━━━━━━━━━━━━━━━━\u001b[0m\u001b[37m\u001b[0m \u001b[1m15s\u001b[0m 52ms/step - accuracy: 0.9921 - loss: 0.0400 - val_accuracy: 0.9847 - val_loss: 0.0654\n",
      "Epoch 12/50\n",
      "\u001b[1m297/297\u001b[0m \u001b[32m━━━━━━━━━━━━━━━━━━━━\u001b[0m\u001b[37m\u001b[0m \u001b[1m15s\u001b[0m 52ms/step - accuracy: 0.9941 - loss: 0.0367 - val_accuracy: 0.9840 - val_loss: 0.0740\n",
      "Epoch 13/50\n",
      "\u001b[1m297/297\u001b[0m \u001b[32m━━━━━━━━━━━━━━━━━━━━\u001b[0m\u001b[37m\u001b[0m \u001b[1m15s\u001b[0m 52ms/step - accuracy: 0.9923 - loss: 0.0425 - val_accuracy: 0.9858 - val_loss: 0.0703\n",
      "Epoch 14/50\n",
      "\u001b[1m297/297\u001b[0m \u001b[32m━━━━━━━━━━━━━━━━━━━━\u001b[0m\u001b[37m\u001b[0m \u001b[1m15s\u001b[0m 51ms/step - accuracy: 0.9923 - loss: 0.0424 - val_accuracy: 0.9770 - val_loss: 0.1151\n",
      "Epoch 15/50\n",
      "\u001b[1m297/297\u001b[0m \u001b[32m━━━━━━━━━━━━━━━━━━━━\u001b[0m\u001b[37m\u001b[0m \u001b[1m15s\u001b[0m 52ms/step - accuracy: 0.9913 - loss: 0.0436 - val_accuracy: 0.9837 - val_loss: 0.0866\n",
      "Epoch 16/50\n",
      "\u001b[1m297/297\u001b[0m \u001b[32m━━━━━━━━━━━━━━━━━━━━\u001b[0m\u001b[37m\u001b[0m \u001b[1m16s\u001b[0m 52ms/step - accuracy: 0.9929 - loss: 0.0399 - val_accuracy: 0.9833 - val_loss: 0.0857\n",
      "Epoch 17/50\n",
      "\u001b[1m297/297\u001b[0m \u001b[32m━━━━━━━━━━━━━━━━━━━━\u001b[0m\u001b[37m\u001b[0m \u001b[1m15s\u001b[0m 51ms/step - accuracy: 0.9934 - loss: 0.0372 - val_accuracy: 0.9808 - val_loss: 0.0960\n",
      "Epoch 18/50\n",
      "\u001b[1m297/297\u001b[0m \u001b[32m━━━━━━━━━━━━━━━━━━━━\u001b[0m\u001b[37m\u001b[0m \u001b[1m16s\u001b[0m 52ms/step - accuracy: 0.9928 - loss: 0.0409 - val_accuracy: 0.9880 - val_loss: 0.0705\n",
      "Epoch 19/50\n",
      "\u001b[1m297/297\u001b[0m \u001b[32m━━━━━━━━━━━━━━━━━━━━\u001b[0m\u001b[37m\u001b[0m \u001b[1m15s\u001b[0m 51ms/step - accuracy: 0.9930 - loss: 0.0391 - val_accuracy: 0.9810 - val_loss: 0.0875\n",
      "Epoch 20/50\n",
      "\u001b[1m297/297\u001b[0m \u001b[32m━━━━━━━━━━━━━━━━━━━━\u001b[0m\u001b[37m\u001b[0m \u001b[1m15s\u001b[0m 52ms/step - accuracy: 0.9948 - loss: 0.0345 - val_accuracy: 0.9800 - val_loss: 0.0984\n",
      "Epoch 21/50\n",
      "\u001b[1m297/297\u001b[0m \u001b[32m━━━━━━━━━━━━━━━━━━━━\u001b[0m\u001b[37m\u001b[0m \u001b[1m15s\u001b[0m 52ms/step - accuracy: 0.9938 - loss: 0.0366 - val_accuracy: 0.9850 - val_loss: 0.0691\n",
      "Epoch 22/50\n",
      "\u001b[1m297/297\u001b[0m \u001b[32m━━━━━━━━━━━━━━━━━━━━\u001b[0m\u001b[37m\u001b[0m \u001b[1m15s\u001b[0m 52ms/step - accuracy: 0.9945 - loss: 0.0357 - val_accuracy: 0.9830 - val_loss: 0.0831\n",
      "Epoch 23/50\n",
      "\u001b[1m297/297\u001b[0m \u001b[32m━━━━━━━━━━━━━━━━━━━━\u001b[0m\u001b[37m\u001b[0m \u001b[1m15s\u001b[0m 52ms/step - accuracy: 0.9934 - loss: 0.0380 - val_accuracy: 0.9898 - val_loss: 0.0655\n",
      "Epoch 24/50\n",
      "\u001b[1m297/297\u001b[0m \u001b[32m━━━━━━━━━━━━━━━━━━━━\u001b[0m\u001b[37m\u001b[0m \u001b[1m15s\u001b[0m 51ms/step - accuracy: 0.9956 - loss: 0.0316 - val_accuracy: 0.9845 - val_loss: 0.0698\n",
      "Epoch 25/50\n",
      "\u001b[1m297/297\u001b[0m \u001b[32m━━━━━━━━━━━━━━━━━━━━\u001b[0m\u001b[37m\u001b[0m \u001b[1m15s\u001b[0m 52ms/step - accuracy: 0.9948 - loss: 0.0325 - val_accuracy: 0.9822 - val_loss: 0.0923\n",
      "Epoch 26/50\n",
      "\u001b[1m297/297\u001b[0m \u001b[32m━━━━━━━━━━━━━━━━━━━━\u001b[0m\u001b[37m\u001b[0m \u001b[1m15s\u001b[0m 51ms/step - accuracy: 0.9946 - loss: 0.0361 - val_accuracy: 0.9862 - val_loss: 0.0732\n",
      "Epoch 27/50\n",
      "\u001b[1m297/297\u001b[0m \u001b[32m━━━━━━━━━━━━━━━━━━━━\u001b[0m\u001b[37m\u001b[0m \u001b[1m16s\u001b[0m 52ms/step - accuracy: 0.9948 - loss: 0.0350 - val_accuracy: 0.9887 - val_loss: 0.0612\n",
      "Epoch 28/50\n",
      "\u001b[1m297/297\u001b[0m \u001b[32m━━━━━━━━━━━━━━━━━━━━\u001b[0m\u001b[37m\u001b[0m \u001b[1m16s\u001b[0m 52ms/step - accuracy: 0.9955 - loss: 0.0306 - val_accuracy: 0.9898 - val_loss: 0.0632\n",
      "Epoch 29/50\n",
      "\u001b[1m297/297\u001b[0m \u001b[32m━━━━━━━━━━━━━━━━━━━━\u001b[0m\u001b[37m\u001b[0m \u001b[1m15s\u001b[0m 52ms/step - accuracy: 0.9965 - loss: 0.0277 - val_accuracy: 0.9880 - val_loss: 0.0640\n",
      "Epoch 30/50\n",
      "\u001b[1m297/297\u001b[0m \u001b[32m━━━━━━━━━━━━━━━━━━━━\u001b[0m\u001b[37m\u001b[0m \u001b[1m15s\u001b[0m 52ms/step - accuracy: 0.9948 - loss: 0.0352 - val_accuracy: 0.9870 - val_loss: 0.0670\n",
      "Epoch 31/50\n",
      "\u001b[1m297/297\u001b[0m \u001b[32m━━━━━━━━━━━━━━━━━━━━\u001b[0m\u001b[37m\u001b[0m \u001b[1m15s\u001b[0m 51ms/step - accuracy: 0.9962 - loss: 0.0283 - val_accuracy: 0.9868 - val_loss: 0.0809\n",
      "Epoch 32/50\n",
      "\u001b[1m297/297\u001b[0m \u001b[32m━━━━━━━━━━━━━━━━━━━━\u001b[0m\u001b[37m\u001b[0m \u001b[1m16s\u001b[0m 52ms/step - accuracy: 0.9950 - loss: 0.0346 - val_accuracy: 0.9905 - val_loss: 0.0634\n",
      "Epoch 33/50\n",
      "\u001b[1m297/297\u001b[0m \u001b[32m━━━━━━━━━━━━━━━━━━━━\u001b[0m\u001b[37m\u001b[0m \u001b[1m15s\u001b[0m 52ms/step - accuracy: 0.9961 - loss: 0.0285 - val_accuracy: 0.9880 - val_loss: 0.0752\n",
      "Epoch 34/50\n",
      "\u001b[1m297/297\u001b[0m \u001b[32m━━━━━━━━━━━━━━━━━━━━\u001b[0m\u001b[37m\u001b[0m \u001b[1m16s\u001b[0m 53ms/step - accuracy: 0.9954 - loss: 0.0309 - val_accuracy: 0.9868 - val_loss: 0.0748\n",
      "Epoch 35/50\n",
      "\u001b[1m297/297\u001b[0m \u001b[32m━━━━━━━━━━━━━━━━━━━━\u001b[0m\u001b[37m\u001b[0m \u001b[1m15s\u001b[0m 52ms/step - accuracy: 0.9963 - loss: 0.0289 - val_accuracy: 0.9850 - val_loss: 0.0736\n",
      "Epoch 36/50\n",
      "\u001b[1m297/297\u001b[0m \u001b[32m━━━━━━━━━━━━━━━━━━━━\u001b[0m\u001b[37m\u001b[0m \u001b[1m15s\u001b[0m 51ms/step - accuracy: 0.9959 - loss: 0.0292 - val_accuracy: 0.9865 - val_loss: 0.0667\n",
      "Epoch 37/50\n",
      "\u001b[1m297/297\u001b[0m \u001b[32m━━━━━━━━━━━━━━━━━━━━\u001b[0m\u001b[37m\u001b[0m \u001b[1m16s\u001b[0m 53ms/step - accuracy: 0.9950 - loss: 0.0334 - val_accuracy: 0.9855 - val_loss: 0.0817\n",
      "Epoch 38/50\n",
      "\u001b[1m297/297\u001b[0m \u001b[32m━━━━━━━━━━━━━━━━━━━━\u001b[0m\u001b[37m\u001b[0m \u001b[1m15s\u001b[0m 52ms/step - accuracy: 0.9964 - loss: 0.0264 - val_accuracy: 0.9818 - val_loss: 0.0953\n",
      "Epoch 39/50\n",
      "\u001b[1m297/297\u001b[0m \u001b[32m━━━━━━━━━━━━━━━━━━━━\u001b[0m\u001b[37m\u001b[0m \u001b[1m16s\u001b[0m 52ms/step - accuracy: 0.9949 - loss: 0.0348 - val_accuracy: 0.9822 - val_loss: 0.0889\n",
      "Epoch 40/50\n",
      "\u001b[1m297/297\u001b[0m \u001b[32m━━━━━━━━━━━━━━━━━━━━\u001b[0m\u001b[37m\u001b[0m \u001b[1m15s\u001b[0m 51ms/step - accuracy: 0.9971 - loss: 0.0269 - val_accuracy: 0.9872 - val_loss: 0.0704\n",
      "Epoch 41/50\n",
      "\u001b[1m297/297\u001b[0m \u001b[32m━━━━━━━━━━━━━━━━━━━━\u001b[0m\u001b[37m\u001b[0m \u001b[1m16s\u001b[0m 52ms/step - accuracy: 0.9961 - loss: 0.0299 - val_accuracy: 0.9877 - val_loss: 0.0656\n",
      "Epoch 42/50\n",
      "\u001b[1m297/297\u001b[0m \u001b[32m━━━━━━━━━━━━━━━━━━━━\u001b[0m\u001b[37m\u001b[0m \u001b[1m16s\u001b[0m 53ms/step - accuracy: 0.9974 - loss: 0.0232 - val_accuracy: 0.9862 - val_loss: 0.0781\n",
      "Epoch 43/50\n",
      "\u001b[1m297/297\u001b[0m \u001b[32m━━━━━━━━━━━━━━━━━━━━\u001b[0m\u001b[37m\u001b[0m \u001b[1m16s\u001b[0m 52ms/step - accuracy: 0.9970 - loss: 0.0264 - val_accuracy: 0.9875 - val_loss: 0.0702\n",
      "Epoch 44/50\n",
      "\u001b[1m297/297\u001b[0m \u001b[32m━━━━━━━━━━━━━━━━━━━━\u001b[0m\u001b[37m\u001b[0m \u001b[1m15s\u001b[0m 52ms/step - accuracy: 0.9959 - loss: 0.0298 - val_accuracy: 0.9850 - val_loss: 0.0880\n",
      "Epoch 45/50\n",
      "\u001b[1m297/297\u001b[0m \u001b[32m━━━━━━━━━━━━━━━━━━━━\u001b[0m\u001b[37m\u001b[0m \u001b[1m15s\u001b[0m 51ms/step - accuracy: 0.9972 - loss: 0.0253 - val_accuracy: 0.9877 - val_loss: 0.0700\n",
      "Epoch 46/50\n",
      "\u001b[1m297/297\u001b[0m \u001b[32m━━━━━━━━━━━━━━━━━━━━\u001b[0m\u001b[37m\u001b[0m \u001b[1m16s\u001b[0m 53ms/step - accuracy: 0.9959 - loss: 0.0281 - val_accuracy: 0.9840 - val_loss: 0.0895\n",
      "Epoch 47/50\n",
      "\u001b[1m297/297\u001b[0m \u001b[32m━━━━━━━━━━━━━━━━━━━━\u001b[0m\u001b[37m\u001b[0m \u001b[1m16s\u001b[0m 53ms/step - accuracy: 0.9955 - loss: 0.0325 - val_accuracy: 0.9883 - val_loss: 0.0702\n",
      "Epoch 48/50\n",
      "\u001b[1m297/297\u001b[0m \u001b[32m━━━━━━━━━━━━━━━━━━━━\u001b[0m\u001b[37m\u001b[0m \u001b[1m16s\u001b[0m 53ms/step - accuracy: 0.9985 - loss: 0.0220 - val_accuracy: 0.9870 - val_loss: 0.0817\n",
      "Epoch 49/50\n",
      "\u001b[1m297/297\u001b[0m \u001b[32m━━━━━━━━━━━━━━━━━━━━\u001b[0m\u001b[37m\u001b[0m \u001b[1m16s\u001b[0m 52ms/step - accuracy: 0.9970 - loss: 0.0249 - val_accuracy: 0.9837 - val_loss: 0.0907\n",
      "Epoch 50/50\n",
      "\u001b[1m297/297\u001b[0m \u001b[32m━━━━━━━━━━━━━━━━━━━━\u001b[0m\u001b[37m\u001b[0m \u001b[1m16s\u001b[0m 53ms/step - accuracy: 0.9956 - loss: 0.0324 - val_accuracy: 0.9893 - val_loss: 0.0720\n"
     ]
    },
    {
     "data": {
      "text/plain": [
       "<keras.src.callbacks.history.History at 0x7db8f6907860>"
      ]
     },
     "execution_count": 167,
     "metadata": {},
     "output_type": "execute_result"
    }
   ],
   "source": [
    "model.fit(\n",
    "    x_train, y_train_enc,\n",
    "    epochs=50,\n",
    "    batch_size=128,\n",
    "    validation_data=(x_dev, y_dev_enc)\n",
    ")"
   ]
  },
  {
   "cell_type": "code",
   "execution_count": 168,
   "id": "d6dba162",
   "metadata": {},
   "outputs": [
    {
     "name": "stdout",
     "output_type": "stream",
     "text": [
      "After training → dev accuracy = 0.9893\n"
     ]
    }
   ],
   "source": [
    "dev_loss, dev_acc = model.evaluate(x_dev, y_dev_enc, verbose=0)\n",
    "print(f\"After training → dev accuracy = {dev_acc:.4f}\")"
   ]
  },
  {
   "cell_type": "code",
   "execution_count": null,
   "id": "5d5bb246",
   "metadata": {},
   "outputs": [
    {
     "name": "stdout",
     "output_type": "stream",
     "text": [
      "\u001b[1m619/875\u001b[0m \u001b[32m━━━━━━━━━━━━━━\u001b[0m\u001b[37m━━━━━━\u001b[0m \u001b[1m2s\u001b[0m 9ms/step"
     ]
    }
   ],
   "source": [
    "import numpy as np\n",
    "y_test_probs = model.predict(x_test)\n",
    "y_test_pred  = np.argmax(y_test_probs, axis=1)"
   ]
  },
  {
   "cell_type": "code",
   "execution_count": 120,
   "id": "e4b52f65",
   "metadata": {},
   "outputs": [],
   "source": [
    "submission_df = pd.DataFrame({\n",
    "    'ImageId': range(1, len(y_test_pred) + 1),\n",
    "    'Label': y_test_pred\n",
    "})\n",
    "\n",
    "submission_df.to_csv('../Datasets/digit-recognizer/submission.csv', index=False)\n"
   ]
  }
 ],
 "metadata": {
  "kernelspec": {
   "display_name": "venv",
   "language": "python",
   "name": "python3"
  },
  "language_info": {
   "codemirror_mode": {
    "name": "ipython",
    "version": 3
   },
   "file_extension": ".py",
   "mimetype": "text/x-python",
   "name": "python",
   "nbconvert_exporter": "python",
   "pygments_lexer": "ipython3",
   "version": "3.12.3"
  }
 },
 "nbformat": 4,
 "nbformat_minor": 5
}
